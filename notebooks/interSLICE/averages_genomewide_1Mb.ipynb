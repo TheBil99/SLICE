{
 "cells": [
  {
   "cell_type": "code",
   "execution_count": 1,
   "metadata": {},
   "outputs": [],
   "source": [
    "import numpy as np\n",
    "import pandas as pd\n",
    "import sys\n",
    "sys.path.insert(1, '/home/federico/Università/Tesi_magistrale/my_programs/')\n",
    "\n",
    "from contact_matrix_utils import *\n",
    "from scipy.stats import pearsonr, spearmanr\n",
    "from scipy.spatial.distance import squareform\n",
    "from src.utilities import *"
   ]
  },
  {
   "cell_type": "markdown",
   "metadata": {},
   "source": [
    "Questo notebook serve per calcolare la media delle pi, coseg e NPMI per ogni coppia di cromosomi (esclusi quelli sessuali) sui dataset mesc_46C_1Mb_481x1"
   ]
  },
  {
   "cell_type": "code",
   "execution_count": 2,
   "metadata": {},
   "outputs": [],
   "source": [
    "save_folder = \"/home/federico/Università/Tesi_magistrale/images/13_averages_genomewide_1Mb.ipynb_output/\""
   ]
  },
  {
   "cell_type": "markdown",
   "metadata": {},
   "source": [
    "# Import coseg #"
   ]
  },
  {
   "cell_type": "code",
   "execution_count": 3,
   "metadata": {},
   "outputs": [],
   "source": [
    "name_root_1NP_1Mb = \"mesc_46C_1Mb_481x1\"\n",
    "\n",
    "path_1 =      r\"/home/federico/Università/Tesi_magistrale/SLICE/slice_repository/data/\" + name_root_1NP_1Mb + \"/\"\n",
    "file_name_1 = \"segregation_\" + name_root_1NP_1Mb +  \".pkl\"\n",
    "with open(path_1 + file_name_1, 'rb') as f:\n",
    "    segregation_table_1NP_1Mb = pickle.load(f)\n",
    "\n",
    "start_chr, stop_chr = 1, 19\n",
    "stop_chr += 1\n",
    "chromosomes = []\n",
    "n_chromosomes = stop_chr - start_chr\n",
    "\n",
    "l = []\n",
    "size = 0\n",
    "\n",
    "for i in range(start_chr, stop_chr):\n",
    "    chrA = 'chr' + str(i)\n",
    "    chromosomes += [chrA]\n",
    "    s = segregation_table_1NP_1Mb[chrA]['segregation_table'].shape[0]\n",
    "    size += s\n",
    "    l.append(s) \n",
    "\n",
    "chr_windows_sizes = np.array(l)"
   ]
  },
  {
   "cell_type": "markdown",
   "metadata": {},
   "source": [
    "# Average $\\pi$ #"
   ]
  },
  {
   "cell_type": "markdown",
   "metadata": {},
   "source": [
    "## mESC 1NP 1Mb ##"
   ]
  },
  {
   "cell_type": "code",
   "execution_count": 4,
   "metadata": {},
   "outputs": [],
   "source": [
    "genomewide_1NP_1Mb_average_pi = np.zeros((19, 19))*np.nan\n",
    "genomewide_1NP_1Mb_average_sign_pi = np.zeros((19, 19))*np.nan\n",
    "\n",
    "for i in range(n_chromosomes):\n",
    "    for j in range(i, n_chromosomes):\n",
    "        start_row    = np.sum(chr_windows_sizes[:i])\n",
    "        stop_row     = start_row + chr_windows_sizes[i]\n",
    "        start_column = np.sum(chr_windows_sizes[:j])\n",
    "        stop_column  = start_column + chr_windows_sizes[j]\n",
    "        chrA = chromosomes[i]\n",
    "        chrB = chromosomes[j]\n",
    "        if(chrA!=chrB):\n",
    "\n",
    "            pi = np.load(data_path + name_root_1NP_1Mb + \"/PI2_inter_beta_evaluation/\" + \"PI2_inter_\" +  chrA + \"_\" + chrB + \"_\" + name_root_1NP_1Mb + \".npy\")\n",
    "            sign_pi = np.load(data_path + name_root_1NP_1Mb + \"/PI2_inter_beta_evaluation/\" + \"PI2_inter_significant_95_\" +  chrA + \"_\" + chrB + \"_\" + name_root_1NP_1Mb + \".npy\")\n",
    "\n",
    "\n",
    "\n",
    "            genomewide_1NP_1Mb_average_pi[i,j] = np.nanmean(pi)\n",
    "            genomewide_1NP_1Mb_average_sign_pi[i,j] = np.nanmean(sign_pi)\n",
    "\n",
    "            genomewide_1NP_1Mb_average_pi[j,i] = genomewide_1NP_1Mb_average_pi[i,j]\n",
    "            genomewide_1NP_1Mb_average_sign_pi[j,i] = genomewide_1NP_1Mb_average_sign_pi[i,j]\n",
    "\n",
    "            del pi, sign_pi\n",
    "        \n",
    "\n",
    "        else:\n",
    "            pi = squareform(np.loadtxt(data_path + name_root_1NP_1Mb + \"/PI2/\" + \"PI2_\" + chrA + \"_\" + name_root_1NP_1Mb + \".txt\") )\n",
    "            sign_pi = squareform(np.loadtxt(data_path + name_root_1NP_1Mb + \"/PI2/\" + \"PI2_significant_95_\" + chrA + \"_\" + name_root_1NP_1Mb + \".txt\") )\n",
    "\n",
    "            np.fill_diagonal(pi, np.nan)\n",
    "            np.fill_diagonal(sign_pi, np.nan)\n",
    "            \n",
    "            genomewide_1NP_1Mb_average_pi[i,j] = np.nanmean(pi)\n",
    "            genomewide_1NP_1Mb_average_sign_pi[i,j] = np.nanmean(sign_pi)"
   ]
  },
  {
   "cell_type": "code",
   "execution_count": 14,
   "metadata": {},
   "outputs": [],
   "source": [
    "temp_1 = np.copy(genomewide_1NP_1Mb_average_pi)\n",
    "temp_2 = np.copy(genomewide_1NP_1Mb_average_sign_pi)\n",
    "\n",
    "np.fill_diagonal(temp_1, np.nan)\n",
    "np.fill_diagonal(temp_2, np.nan)\n",
    "\n",
    "fig1, _, _ = plot_genomewide_averages(genomewide_1NP_1Mb_average_pi, vmin = np.nanpercentile(temp_1, 3), vmax = np.nanpercentile(temp_1, 97), title = \"Average $\\pi$ - \" + name_root_1NP_1Mb)\n",
    "fig2, _, _ = plot_genomewide_averages(genomewide_1NP_1Mb_average_sign_pi, vmin = np.nanpercentile(temp_2, 3), vmax = np.nanpercentile(temp_2, 97), title = \"Average significant $\\pi$ 95% - \" + name_root_1NP_1Mb)\n",
    "\n",
    "fig1.savefig(save_folder + 'beagrie_mesc_1NP/beagrie_mesc_1NP_1Mb_average_pi.svg' , format = 'svg', dpi = 300)\n",
    "fig2.savefig(save_folder + 'beagrie_mesc_1NP/beagrie_mesc_1NP_1Mb_average_sign_pi.svg' , format = 'svg', dpi = 300)\n",
    "\n",
    "plt.close(fig1)\n",
    "plt.close(fig2)\n",
    "\n",
    "del fig1, fig2, temp_1, temp_2"
   ]
  },
  {
   "cell_type": "code",
   "execution_count": 6,
   "metadata": {},
   "outputs": [
    {
     "name": "stdout",
     "output_type": "stream",
     "text": [
      "3.4847191409755194 0.1910403509408472 1.5083059501927243 0.07851594133549211\n",
      "7.9949397780294476 0.1966990001849021 3.4484079650201274 0.10556871735954686\n"
     ]
    }
   ],
   "source": [
    "t =  genomewide_1NP_1Mb_average_pi\n",
    "t_nodiag = np.copy(t);  np.fill_diagonal(t_nodiag, np.nan)\n",
    "\n",
    "print(np.nanmean(np.diag(t))*100, np.nanstd(np.diag(t))*100, np.nanmean(t_nodiag)*100, np.nanstd(t_nodiag)*100 )\n",
    "\n",
    "del t, t_nodiag\n",
    "\n",
    "t =  genomewide_1NP_1Mb_average_sign_pi\n",
    "t_nodiag = np.copy(t);  np.fill_diagonal(t_nodiag, np.nan)\n",
    "\n",
    "print(np.nanmean(np.diag(t))*100, np.nanstd(np.diag(t))*100, np.nanmean(t_nodiag)*100, np.nanstd(t_nodiag)*100 )\n",
    "\n",
    "del t, t_nodiag"
   ]
  },
  {
   "cell_type": "code",
   "execution_count": null,
   "metadata": {},
   "outputs": [],
   "source": []
  },
  {
   "cell_type": "code",
   "execution_count": 7,
   "metadata": {},
   "outputs": [
    {
     "data": {
      "text/plain": [
       "(0.7280334728033473, 0.825136612021858)"
      ]
     },
     "execution_count": 7,
     "metadata": {},
     "output_type": "execute_result"
    }
   ],
   "source": [
    "3.48/4.78, 1.51/1.83"
   ]
  },
  {
   "cell_type": "code",
   "execution_count": null,
   "metadata": {},
   "outputs": [],
   "source": []
  },
  {
   "cell_type": "markdown",
   "metadata": {},
   "source": [
    "# Average cosegregation #"
   ]
  },
  {
   "cell_type": "markdown",
   "metadata": {},
   "source": [
    "## mESC 1NP 1Mb ##"
   ]
  },
  {
   "cell_type": "code",
   "execution_count": 8,
   "metadata": {},
   "outputs": [],
   "source": [
    "genomewide_1NP_1Mb_average_coseg = np.zeros((19, 19))*np.nan\n",
    "\n",
    "for i in range(n_chromosomes):\n",
    "    for j in range(i, n_chromosomes):\n",
    "        start_row    = np.sum(chr_windows_sizes[:i])\n",
    "        stop_row     = start_row + chr_windows_sizes[i]\n",
    "        start_column = np.sum(chr_windows_sizes[:j])\n",
    "        stop_column  = start_column + chr_windows_sizes[j]\n",
    "        chrA = chromosomes[i]\n",
    "        chrB = chromosomes[j]\n",
    "        if(chrA!=chrB):\n",
    "\n",
    "            coseg = compute_tube_cosegregation_matrix_offdiag(segregation_table_1NP_1Mb[chrA]['segregation_table'], segregation_table_1NP_1Mb[chrB]['segregation_table'])\n",
    "\n",
    "            F_arr_A, F_arr_B = compute_tube_segregation_frequency_inter(segregation_table_1NP_1Mb[chrA]['segregation_table'], segregation_table_1NP_1Mb[chrB]['segregation_table'])\n",
    "\n",
    "            coseg[:, np.isnan(F_arr_B)] = np.nan\n",
    "            coseg[np.isnan(F_arr_A), :] = np.nan\n",
    "\n",
    "            genomewide_1NP_1Mb_average_coseg[i,j] = np.nanmean(coseg)\n",
    "            genomewide_1NP_1Mb_average_coseg[j,i] = genomewide_1NP_1Mb_average_coseg[i,j] \n",
    "\n",
    "        else:\n",
    "            coseg = compute_tube_cosegregation_matrix(segregation_table_1NP_1Mb[chrA]['segregation_table'])\n",
    "            np.fill_diagonal(coseg, np.nan)\n",
    "\n",
    "            F_arr_A = compute_tube_segregation_frequency(segregation_table_1NP_1Mb[chrA]['segregation_table'])\n",
    "\n",
    "            coseg[:, np.isnan(F_arr_A)] = np.nan\n",
    "            coseg[np.isnan(F_arr_A), :] = np.nan\n",
    "\n",
    "            genomewide_1NP_1Mb_average_coseg[i,j] = np.nanmean(coseg)\n",
    "\n"
   ]
  },
  {
   "cell_type": "code",
   "execution_count": 13,
   "metadata": {},
   "outputs": [],
   "source": [
    "temp_1 = np.copy(genomewide_1NP_1Mb_average_coseg)\n",
    "\n",
    "np.fill_diagonal(temp_1, np.nan)\n",
    "\n",
    "fig, _, _ = plot_genomewide_averages(genomewide_1NP_1Mb_average_coseg, vmin = np.nanpercentile(genomewide_1NP_1Mb_average_coseg, 3), vmax = np.nanpercentile(genomewide_1NP_1Mb_average_coseg, 97), title = \"Average cosegregation - \" + name_root_1NP_1Mb)\n",
    "\n",
    "fig.savefig(save_folder + 'beagrie_mesc_1NP/beagrie_mesc_1NP_1Mb_average_coseg.svg' , format = 'svg', dpi = 300)\n",
    "\n",
    "plt.close(fig)\n",
    "\n",
    "del fig, temp_1"
   ]
  },
  {
   "cell_type": "markdown",
   "metadata": {},
   "source": [
    "# Average NPMI #"
   ]
  },
  {
   "cell_type": "markdown",
   "metadata": {},
   "source": [
    "## mESC 1NP 1Mb ##"
   ]
  },
  {
   "cell_type": "code",
   "execution_count": 10,
   "metadata": {},
   "outputs": [
    {
     "name": "stderr",
     "output_type": "stream",
     "text": [
      "/home/federico/Università/Tesi_magistrale/SLICE/slice_repository/src/utilities.py:40: RuntimeWarning: divide by zero encountered in log\n",
      "  npmi_mat = - np.log(F_ij / (F_i * F_j)) / np.log(F_ij)\n",
      "/home/federico/Università/Tesi_magistrale/SLICE/slice_repository/src/utilities.py:56: RuntimeWarning: divide by zero encountered in log\n",
      "  npmi_mat = - np.log(F_ij / (F_i * F_j)) / np.log(F_ij)\n"
     ]
    }
   ],
   "source": [
    "genomewide_1NP_1Mb_average_npmi = np.zeros((19, 19))*np.nan\n",
    "\n",
    "for i in range(n_chromosomes):\n",
    "    for j in range(i, n_chromosomes):\n",
    "        start_row    = np.sum(chr_windows_sizes[:i])\n",
    "        stop_row     = start_row + chr_windows_sizes[i]\n",
    "        start_column = np.sum(chr_windows_sizes[:j])\n",
    "        stop_column  = start_column + chr_windows_sizes[j]\n",
    "        chrA = chromosomes[i]\n",
    "        chrB = chromosomes[j]\n",
    "        if(chrA!=chrB):\n",
    "\n",
    "            npmi = compute_npmi_inter(segregation_table_1NP_1Mb[chrA]['segregation_table'], segregation_table_1NP_1Mb[chrB]['segregation_table'])\n",
    "            genomewide_1NP_1Mb_average_npmi[i,j] = np.nanmean(npmi)\n",
    "            genomewide_1NP_1Mb_average_npmi[j,i] = genomewide_1NP_1Mb_average_npmi[i,j] \n",
    "\n",
    "        else:\n",
    "            npmi = compute_npmi(segregation_table_1NP_1Mb[chrA]['segregation_table'])\n",
    "            np.fill_diagonal(npmi, np.nan)\n",
    "            genomewide_1NP_1Mb_average_npmi[i,j] = np.nanmean(npmi)"
   ]
  },
  {
   "cell_type": "code",
   "execution_count": 11,
   "metadata": {},
   "outputs": [],
   "source": [
    "temp_1 = np.copy(genomewide_1NP_1Mb_average_npmi)\n",
    "\n",
    "np.fill_diagonal(temp_1, np.nan)\n",
    "\n",
    "fig, _,  _  = plot_genomewide_averages(genomewide_1NP_1Mb_average_npmi, vmin = np.nanpercentile(temp_1, 3), vmax = np.nanpercentile(temp_1, 97), title=\"Average NPMI - \" + name_root_1NP_1Mb)\n",
    "\n",
    "fig.savefig(save_folder + 'beagrie_mesc_1NP/beagrie_mesc_1NP_1Mb_average_NPMI.svg' , format = 'svg', dpi = 300)\n",
    "\n",
    "plt.close(fig)\n",
    "\n",
    "del fig, temp_1"
   ]
  },
  {
   "cell_type": "code",
   "execution_count": null,
   "metadata": {},
   "outputs": [],
   "source": []
  }
 ],
 "metadata": {
  "interpreter": {
   "hash": "35f0287b245a2b6752771d274bb3d656c1194568339c7d520dafb5ec18825d5e"
  },
  "kernelspec": {
   "display_name": "Python 3 (ipykernel)",
   "language": "python",
   "name": "python3"
  },
  "language_info": {
   "codemirror_mode": {
    "name": "ipython",
    "version": 3
   },
   "file_extension": ".py",
   "mimetype": "text/x-python",
   "name": "python",
   "nbconvert_exporter": "python",
   "pygments_lexer": "ipython3",
   "version": "3.9.7"
  }
 },
 "nbformat": 4,
 "nbformat_minor": 4
}
