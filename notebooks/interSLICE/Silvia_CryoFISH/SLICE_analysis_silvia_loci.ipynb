{
 "cells": [
  {
   "cell_type": "code",
   "execution_count": 1,
   "metadata": {},
   "outputs": [],
   "source": [
    "import numpy as np\n",
    "import pandas as pd\n",
    "import sys\n",
    "sys.path.insert(1, '/home/federico/Università/Tesi_magistrale/my_programs/')\n",
    "\n",
    "from contact_matrix_utils import *\n",
    "#from src.interchromosomal_cosegregation import *\n",
    "from numpy.random import Generator, MT19937\n",
    "from scipy.stats import pearsonr, spearmanr\n",
    "from scipy.spatial.distance import squareform\n",
    "from src.utilities import *\n",
    "import warnings\n",
    "\n",
    "import seaborn as sns"
   ]
  },
  {
   "cell_type": "code",
   "execution_count": 2,
   "metadata": {},
   "outputs": [],
   "source": [
    "res = 150E3"
   ]
  },
  {
   "cell_type": "code",
   "execution_count": 3,
   "metadata": {},
   "outputs": [],
   "source": [
    "save_folder = \"/home/federico/Università/Tesi_magistrale/my_programs/interSLICE/Silvia_CryoFISH/\""
   ]
  },
  {
   "cell_type": "code",
   "execution_count": 4,
   "metadata": {},
   "outputs": [],
   "source": [
    "def select_chromosomes_coordinates(chrA, chrB, chr_windows_sizes):\n",
    "    if(chrA==0 or chrB ==0):\n",
    "        print(\"0 is not accepted as chromosome index \")\n",
    "        return\n",
    "\n",
    "    chrA_idx, chrB_idx = chrA - 1, chrB - 1\n",
    "\n",
    "    if(chrA_idx>chrB_idx):\n",
    "        chrA_idx, chrB_idx = chrB_idx, chrA_idx\n",
    "\n",
    "    start_row    = np.sum(chr_windows_sizes[:chrA_idx])\n",
    "    stop_row     = start_row + chr_windows_sizes[chrA_idx]\n",
    "    start_column = np.sum(chr_windows_sizes[:chrB_idx])\n",
    "    stop_column  = start_column + chr_windows_sizes[chrB_idx]\n",
    "\n",
    "    return start_row, stop_row, start_column, stop_column\n",
    "which_beta = \"$\\\\beta$ evaluated | 1/2\""
   ]
  },
  {
   "cell_type": "markdown",
   "metadata": {},
   "source": [
    "# Definition of loci coordinates #"
   ]
  },
  {
   "cell_type": "code",
   "execution_count": 5,
   "metadata": {},
   "outputs": [],
   "source": [
    "SE17B     = [ 29072733, 29222726]\n",
    "SE17A     = [ 29281486, 29474597]\n",
    "_14mTAD1  = [ 50778684, 50955510]\n",
    "_14hTAD2  = [ 55550566, 55711256]\n",
    "_14hTAD3  = [ 55770470, 55953023]\n",
    "_14mTAD4  = [ 67654047, 67922353]\n",
    "_14SETAD5 = [ 70509172, 70673422]\n"
   ]
  },
  {
   "cell_type": "code",
   "execution_count": 6,
   "metadata": {},
   "outputs": [
    {
     "name": "stdout",
     "output_type": "stream",
     "text": [
      "-149993\n",
      "-193111\n",
      "-176826\n",
      "-160690\n",
      "-182553\n",
      "-268306\n",
      "-164250\n"
     ]
    }
   ],
   "source": [
    "print(29072733 -  29222726)\n",
    "print(29281486 -  29474597)\n",
    "print(50778684 -  50955510)\n",
    "print(55550566 -  55711256)\n",
    "print(55770470 -  55953023)\n",
    "print(67654047 -  67922353)\n",
    "print(70509172 -  70673422)"
   ]
  },
  {
   "cell_type": "markdown",
   "metadata": {},
   "source": [
    "# Import coseg #"
   ]
  },
  {
   "cell_type": "code",
   "execution_count": 7,
   "metadata": {},
   "outputs": [],
   "source": [
    "name_root_1NP_150kb = \"mesc_46C_150kb_481x1\"\n",
    "\n",
    "path_1 =      r\"/home/federico/Università/Tesi_magistrale/SLICE/slice_repository/data/\" + name_root_1NP_150kb + \"/\"\n",
    "file_name_1 = \"segregation_\" + name_root_1NP_150kb +  \".pkl\"\n",
    "with open(path_1 + file_name_1, 'rb') as f:\n",
    "    segregation_table_1NP_150kb = pickle.load(f)\n",
    "\n",
    "start_chr, stop_chr = 1, 19\n",
    "stop_chr += 1\n",
    "chromosomes = []\n",
    "n_chromosomes = stop_chr - start_chr\n",
    "\n",
    "l = []\n",
    "size = 0\n",
    "\n",
    "for i in range(start_chr, stop_chr):\n",
    "    chrA = 'chr' + str(i)\n",
    "    chromosomes += [chrA]\n",
    "    s = segregation_table_1NP_150kb[chrA]['segregation_table'].shape[0]\n",
    "    size += s\n",
    "    l.append(s) \n",
    "\n",
    "chr_windows_sizes = np.array(l)"
   ]
  },
  {
   "cell_type": "code",
   "execution_count": 8,
   "metadata": {},
   "outputs": [],
   "source": [
    "chr14_1NP_150kb_coseg = compute_tube_cosegregation_matrix(segregation_table_1NP_150kb['chr14']['segregation_table'])\n",
    "chr17_1NP_150kb_coseg = compute_tube_cosegregation_matrix(segregation_table_1NP_150kb['chr17']['segregation_table'])\n",
    "chr14_17_1NP_150kb_coseg = compute_tube_cosegregation_matrix_offdiag(segregation_table_1NP_150kb['chr14']['segregation_table'], segregation_table_1NP_150kb['chr17']['segregation_table'])\n",
    "\n",
    "chr14_1NP_150kb_coseg[chr14_1NP_150kb_coseg == 0] = np.nan\n",
    "chr17_1NP_150kb_coseg[chr17_1NP_150kb_coseg == 0] = np.nan\n",
    "chr14_17_1NP_150kb_coseg[chr14_17_1NP_150kb_coseg == 0] = np.nan"
   ]
  },
  {
   "cell_type": "code",
   "execution_count": 9,
   "metadata": {},
   "outputs": [],
   "source": [
    "chr14_17_WDF_1NP_150kb = np.array([])\n",
    "\n",
    "segregation_table_14 = segregation_table_1NP_150kb[\"chr14\"][\"segregation_table\"]\n",
    "chr14_WDF_1NP_150kb = compute_tube_segregation_frequency(segregation_table_14)\n",
    "\n",
    "segregation_table_17 = segregation_table_1NP_150kb[\"chr17\"][\"segregation_table\"]\n",
    "chr17_WDF_1NP_150kb = compute_tube_segregation_frequency(segregation_table_17)\n",
    "\n",
    "chr14_17_WDF_1NP_150kb = np.concatenate((chr14_WDF_1NP_150kb, chr17_WDF_1NP_150kb))\n",
    "\n",
    "del segregation_table_14, segregation_table_17"
   ]
  },
  {
   "cell_type": "markdown",
   "metadata": {},
   "source": [
    "# Import $\\pi$ #"
   ]
  },
  {
   "cell_type": "code",
   "execution_count": 10,
   "metadata": {},
   "outputs": [],
   "source": [
    "chr14_1NP_150kb_pi = squareform(np.loadtxt(\"/home/federico/Università/Tesi_magistrale/SLICE/slice_repository/data/mesc_46C_150kb_481x1/PI2/PI2_chr14_mesc_46C_150kb_481x1.txt\"))\n",
    "chr17_1NP_150kb_pi = squareform(np.loadtxt(\"/home/federico/Università/Tesi_magistrale/SLICE/slice_repository/data/mesc_46C_150kb_481x1/PI2/PI2_chr17_mesc_46C_150kb_481x1.txt\"))\n",
    "\n",
    "chr14_1NP_150kb_sign_pi = squareform(np.loadtxt(\"/home/federico/Università/Tesi_magistrale/SLICE/slice_repository/data/mesc_46C_150kb_481x1/PI2/PI2_significant_95_chr14_mesc_46C_150kb_481x1.txt\"))\n",
    "chr17_1NP_150kb_sign_pi = squareform(np.loadtxt(\"/home/federico/Università/Tesi_magistrale/SLICE/slice_repository/data/mesc_46C_150kb_481x1/PI2/PI2_significant_95_chr17_mesc_46C_150kb_481x1.txt\"))\n",
    "\n",
    "for i in [chr14_1NP_150kb_pi, chr17_1NP_150kb_pi, chr14_1NP_150kb_sign_pi, chr17_1NP_150kb_sign_pi]:\n",
    "    np.fill_diagonal(i, np.nan)"
   ]
  },
  {
   "cell_type": "code",
   "execution_count": 11,
   "metadata": {},
   "outputs": [],
   "source": [
    "chr14_17_1NP_150kb_pi  = np.load(\"/home/federico/Università/Tesi_magistrale/SLICE/slice_repository/data/mesc_46C_150kb_481x1/PI2_inter_beta_evaluation/PI2_inter_chr14_chr17_mesc_46C_150kb_481x1.npy\")\n",
    "chr14_17_1NP_150kb_sign_pi  = np.load(\"/home/federico/Università/Tesi_magistrale/SLICE/slice_repository/data/mesc_46C_150kb_481x1/PI2_inter_beta_evaluation/PI2_inter_significant_95_chr14_chr17_mesc_46C_150kb_481x1.npy\")\n"
   ]
  },
  {
   "cell_type": "markdown",
   "metadata": {},
   "source": [
    "# Heatmaps #"
   ]
  },
  {
   "cell_type": "markdown",
   "metadata": {},
   "source": [
    "## pi ##"
   ]
  },
  {
   "cell_type": "markdown",
   "metadata": {},
   "source": [
    "### Full chromosomes ###"
   ]
  },
  {
   "cell_type": "code",
   "execution_count": 12,
   "metadata": {},
   "outputs": [],
   "source": [
    "fig1, ax1, _, _ = plot_heatmap(chr14_17_1NP_150kb_pi, x_figsize=10, y_figsize=10,colormap=\"RdYlBu_r\", title = \"chr 14 17 1NP pi \", resolution=res)\n",
    "\n",
    "draw_square( SE17A, _14mTAD1, resolution = res,ax = ax1,  x_annotation = \"SE17A\", y_annotation = \"_14mTAD1\", edgecolor= 'black', linewidth= 0.1)\n",
    "draw_square( SE17A, _14hTAD2, resolution = res,ax = ax1,  x_annotation = \"SE17A\", y_annotation = \"_14hTAD2\", edgecolor= 'black', linewidth= 0.1)\n",
    "draw_square( SE17A, _14hTAD3, resolution = res,ax = ax1,  x_annotation = \"SE17A\", y_annotation = \"_14hTAD3\", edgecolor= 'black', linewidth= 0.1)\n",
    "draw_square( SE17A, _14mTAD4, resolution = res,ax = ax1,  x_annotation = \"SE17A\", y_annotation = \"_14mTAD4\", edgecolor= 'black', linewidth= 0.1)\n",
    "draw_square( SE17A, _14SETAD5, resolution = res,ax = ax1, x_annotation = \"SE17A\", y_annotation = \"_14SETAD5\", edgecolor='black', linewidth= 0.1)\n",
    "\n",
    "draw_square( SE17B, _14mTAD1, resolution = res,ax = ax1,  x_annotation = \"SE17B\", y_annotation = \"_14mTAD1\", edgecolor= 'black', linewidth= 0.1)\n",
    "draw_square( SE17B, _14hTAD2, resolution = res,ax = ax1,  x_annotation = \"SE17B\", y_annotation = \"_14hTAD2\", edgecolor= 'black', linewidth= 0.1)\n",
    "draw_square( SE17B, _14hTAD3, resolution = res,ax = ax1,  x_annotation = \"SE17B\", y_annotation = \"_14hTAD3\", edgecolor= 'black', linewidth= 0.1)\n",
    "draw_square( SE17B, _14mTAD4, resolution = res,ax = ax1,  x_annotation = \"SE17B\", y_annotation = \"_14mTAD4\", edgecolor= 'black', linewidth= 0.1)\n",
    "draw_square( SE17B, _14SETAD5, resolution = res,ax = ax1, x_annotation = \"SE17B\", y_annotation = \"_14SETAD5\", edgecolor='black', linewidth= 0.1)\n",
    "\n",
    "fig1.savefig(save_folder + \"heatmaps/inter_pi/\" +  'chr14_17_1NP_150kb_pi.svg' , format = 'svg', dpi = 300)\n",
    "\n",
    "plt.close(fig1)\n",
    "\n",
    "del fig1"
   ]
  },
  {
   "cell_type": "code",
   "execution_count": 13,
   "metadata": {},
   "outputs": [],
   "source": [
    "fig1, ax1, _, _ = plot_heatmap(chr14_17_1NP_150kb_sign_pi,x_figsize=10, y_figsize=10, colormap=\"RdYlBu_r\", title = \"chr 14 17 1NP sign pi\", resolution=res)\n",
    "\n",
    "draw_square( SE17A, _14mTAD1, resolution = res,ax = ax1,  x_annotation = \"SE17A\", y_annotation = \"_14mTAD1\", edgecolor= 'black', linewidth= 0.1)\n",
    "draw_square( SE17A, _14hTAD2, resolution = res,ax = ax1,  x_annotation = \"SE17A\", y_annotation = \"_14hTAD2\", edgecolor= 'black', linewidth= 0.1)\n",
    "draw_square( SE17A, _14hTAD3, resolution = res,ax = ax1,  x_annotation = \"SE17A\", y_annotation = \"_14hTAD3\", edgecolor= 'black', linewidth= 0.1)\n",
    "draw_square( SE17A, _14mTAD4, resolution = res,ax = ax1,  x_annotation = \"SE17A\", y_annotation = \"_14mTAD4\", edgecolor= 'black', linewidth= 0.1)\n",
    "draw_square( SE17A, _14SETAD5, resolution = res,ax = ax1, x_annotation = \"SE17A\", y_annotation = \"_14SETAD5\", edgecolor='black', linewidth= 0.1)\n",
    "\n",
    "draw_square( SE17B, _14mTAD1, resolution = res,ax = ax1,  x_annotation = \"SE17B\", y_annotation = \"_14mTAD1\", edgecolor= 'black', linewidth= 0.1)\n",
    "draw_square( SE17B, _14hTAD2, resolution = res,ax = ax1,  x_annotation = \"SE17B\", y_annotation = \"_14hTAD2\", edgecolor= 'black', linewidth= 0.1)\n",
    "draw_square( SE17B, _14hTAD3, resolution = res,ax = ax1,  x_annotation = \"SE17B\", y_annotation = \"_14hTAD3\", edgecolor= 'black', linewidth= 0.1)\n",
    "draw_square( SE17B, _14mTAD4, resolution = res,ax = ax1,  x_annotation = \"SE17B\", y_annotation = \"_14mTAD4\", edgecolor= 'black', linewidth= 0.1)\n",
    "draw_square( SE17B, _14SETAD5, resolution = res,ax = ax1, x_annotation = \"SE17B\", y_annotation = \"_14SETAD5\", edgecolor='black', linewidth= 0.1)\n",
    "\n",
    "fig1.savefig(save_folder + \"heatmaps/inter_sign_pi/\" +  'chr14_17_1NP_150kb_sign_pi.svg' , format = 'svg', dpi = 300)\n",
    "\n",
    "plt.close(fig1)\n",
    "\n",
    "del fig1"
   ]
  },
  {
   "cell_type": "markdown",
   "metadata": {},
   "source": [
    "### zoom ###"
   ]
  },
  {
   "cell_type": "code",
   "execution_count": 14,
   "metadata": {},
   "outputs": [],
   "source": [
    "region_1 = np.array([[ int((SE17B[0])/res)-10 , int((SE17A[1])/res) + 10 ], [int((_14mTAD1[0])/res)-10 , int((_14hTAD3[1])/res) + 10 ]])\n",
    "region_2 = np.array([[ int((SE17B[0])/res)-10 , int((SE17A[1])/res) + 10 ], [int((_14mTAD4[0])/res)-10 , int((_14SETAD5[1])/res) + 10 ]])"
   ]
  },
  {
   "cell_type": "code",
   "execution_count": 19,
   "metadata": {},
   "outputs": [],
   "source": [
    "fig1, ax1, _, _ = plot_heatmap(chr14_17_1NP_150kb_pi[region_1[1,0]:region_1[1,1], region_1[0,0]:region_1[0,1]], colormap = \"RdYlBu_r\", title = \"chr 14 17 pi 1NP\")\n",
    "\n",
    "draw_square( SE17A, _14mTAD1, resolution = res,ax = ax1,  x_annotation = \"SE17A\", y_annotation = \"_14mTAD1\", edgecolor= 'black', linewidth= 1, x_s=region_1[0,0], y_s=region_1[1,0])\n",
    "draw_square( SE17A, _14hTAD2, resolution = res,ax = ax1,  x_annotation = \"SE17A\", y_annotation = \"_14hTAD2\", edgecolor= 'black', linewidth= 1, x_s=region_1[0,0], y_s=region_1[1,0])\n",
    "draw_square( SE17A, _14hTAD3, resolution = res,ax = ax1,  x_annotation = \"SE17A\", y_annotation = \"_14hTAD3\", edgecolor= 'black', linewidth= 1, x_s=region_1[0,0], y_s=region_1[1,0])\n",
    "draw_square( SE17A, _14mTAD4, resolution = res,ax = ax1,  x_annotation = \"SE17A\", y_annotation = \"_14mTAD4\", edgecolor= 'black', linewidth= 1, x_s=region_1[0,0], y_s=region_1[1,0])\n",
    "draw_square( SE17A, _14SETAD5, resolution = res,ax = ax1, x_annotation = \"SE17A\", y_annotation = \"_14SETAD5\", edgecolor='black', linewidth= 1, x_s=region_1[0,0], y_s=region_1[1,0])\n",
    "\n",
    "draw_square( SE17B, _14mTAD1, resolution = res,ax = ax1,  x_annotation = \"SE17B\", y_annotation = \"_14mTAD1\", edgecolor= 'black', linewidth= 1, x_s=region_1[0,0], y_s=region_1[1,0])\n",
    "draw_square( SE17B, _14hTAD2, resolution = res,ax = ax1,  x_annotation = \"SE17B\", y_annotation = \"_14hTAD2\", edgecolor= 'black', linewidth= 1, x_s=region_1[0,0], y_s=region_1[1,0])\n",
    "draw_square( SE17B, _14hTAD3, resolution = res,ax = ax1,  x_annotation = \"SE17B\", y_annotation = \"_14hTAD3\", edgecolor= 'black', linewidth= 1, x_s=region_1[0,0], y_s=region_1[1,0])\n",
    "draw_square( SE17B, _14mTAD4, resolution = res,ax = ax1,  x_annotation = \"SE17B\", y_annotation = \"_14mTAD4\", edgecolor= 'black', linewidth= 1, x_s=region_1[0,0], y_s=region_1[1,0])\n",
    "draw_square( SE17B, _14SETAD5, resolution = res,ax = ax1, x_annotation = \"SE17B\", y_annotation = \"_14SETAD5\", edgecolor='black', linewidth= 1, x_s=region_1[0,0], y_s=region_1[1,0])\n",
    "\n",
    "fig1.savefig(save_folder + \"heatmaps/detail/inter_pi/\"  +  'chr14_17_1NP_150kb_pi_region_1.svg' , format = 'svg', dpi = 300)\n",
    "\n",
    "plt.close(fig1)\n",
    "\n",
    "del fig1"
   ]
  },
  {
   "cell_type": "code",
   "execution_count": 20,
   "metadata": {},
   "outputs": [],
   "source": [
    "fig1, ax1, _, _ = plot_heatmap(chr14_17_1NP_150kb_pi[region_2[1,0]:region_2[1,1], region_2[0,0]:region_2[0,1]], colormap = \"RdYlBu_r\", title = \"chr 14 17 pi 1NP\")\n",
    "\n",
    "draw_square( SE17A, _14mTAD1, resolution = res,ax = ax1,  x_annotation = \"SE17A\", y_annotation = \"_14mTAD1\", edgecolor= 'black', linewidth= 1, x_s=region_2[0,0], y_s=region_2[1,0])\n",
    "draw_square( SE17A, _14hTAD2, resolution = res,ax = ax1,  x_annotation = \"SE17A\", y_annotation = \"_14hTAD2\", edgecolor= 'black', linewidth= 1, x_s=region_2[0,0], y_s=region_2[1,0])\n",
    "draw_square( SE17A, _14hTAD3, resolution = res,ax = ax1,  x_annotation = \"SE17A\", y_annotation = \"_14hTAD3\", edgecolor= 'black', linewidth= 1, x_s=region_2[0,0], y_s=region_2[1,0])\n",
    "draw_square( SE17A, _14mTAD4, resolution = res,ax = ax1,  x_annotation = \"SE17A\", y_annotation = \"_14mTAD4\", edgecolor= 'black', linewidth= 1, x_s=region_2[0,0], y_s=region_2[1,0])\n",
    "draw_square( SE17A, _14SETAD5, resolution = res,ax = ax1, x_annotation = \"SE17A\", y_annotation = \"_14SETAD5\", edgecolor='black', linewidth= 1, x_s=region_2[0,0], y_s=region_2[1,0])\n",
    "\n",
    "draw_square( SE17B, _14mTAD1, resolution = res,ax = ax1,  x_annotation = \"SE17B\", y_annotation = \"_14mTAD1\", edgecolor= 'black', linewidth= 1, x_s=region_2[0,0], y_s=region_2[1,0])\n",
    "draw_square( SE17B, _14hTAD2, resolution = res,ax = ax1,  x_annotation = \"SE17B\", y_annotation = \"_14hTAD2\", edgecolor= 'black', linewidth= 1, x_s=region_2[0,0], y_s=region_2[1,0])\n",
    "draw_square( SE17B, _14hTAD3, resolution = res,ax = ax1,  x_annotation = \"SE17B\", y_annotation = \"_14hTAD3\", edgecolor= 'black', linewidth= 1, x_s=region_2[0,0], y_s=region_2[1,0])\n",
    "draw_square( SE17B, _14mTAD4, resolution = res,ax = ax1,  x_annotation = \"SE17B\", y_annotation = \"_14mTAD4\", edgecolor= 'black', linewidth= 1, x_s=region_2[0,0], y_s=region_2[1,0])\n",
    "draw_square( SE17B, _14SETAD5, resolution = res,ax = ax1, x_annotation = \"SE17B\", y_annotation = \"_14SETAD5\", edgecolor='black', linewidth= 1, x_s=region_2[0,0], y_s=region_2[1,0])\n",
    "\n",
    "fig1.savefig(save_folder + \"heatmaps/detail/inter_pi/\"  +  'chr14_17_1NP_150kb_pi_region_2.svg' , format = 'svg', dpi = 300)\n",
    "\n",
    "plt.close(fig1)\n",
    "\n",
    "del fig1"
   ]
  },
  {
   "cell_type": "code",
   "execution_count": null,
   "metadata": {},
   "outputs": [],
   "source": []
  }
 ],
 "metadata": {
  "interpreter": {
   "hash": "35f0287b245a2b6752771d274bb3d656c1194568339c7d520dafb5ec18825d5e"
  },
  "kernelspec": {
   "display_name": "Python 3.9.7 ('gam-env')",
   "language": "python",
   "name": "python3"
  },
  "language_info": {
   "codemirror_mode": {
    "name": "ipython",
    "version": 3
   },
   "file_extension": ".py",
   "mimetype": "text/x-python",
   "name": "python",
   "nbconvert_exporter": "python",
   "pygments_lexer": "ipython3",
   "version": "3.9.7"
  },
  "orig_nbformat": 4
 },
 "nbformat": 4,
 "nbformat_minor": 2
}
