{
 "cells": [
  {
   "cell_type": "code",
   "execution_count": null,
   "metadata": {},
   "outputs": [],
   "source": [
    "import numpy as np\n",
    "import pandas as pd\n",
    "import sys\n",
    "sys.path.insert(1, '/home/federico/Università/Tesi_magistrale/my_programs/')\n",
    "\n",
    "from contact_matrix_utils import *\n",
    "import settings\n",
    "from src.slice_pairwise import *\n",
    "from src.interchromosomal_cosegregation import *\n",
    "from numpy.random import Generator, MT19937\n",
    "from scipy.stats import pearsonr, spearmanr\n",
    "\n",
    "import matplotlib.pyplot as plt"
   ]
  },
  {
   "cell_type": "code",
   "execution_count": null,
   "metadata": {},
   "outputs": [],
   "source": [
    "#save_folder = \"/home/federico/Università/Tesi_magistrale/images/chr12_chr18_1NP_1Mb_beta_comparison.ipynb_output/\""
   ]
  },
  {
   "cell_type": "markdown",
   "metadata": {},
   "source": [
    "# segregation table import #"
   ]
  },
  {
   "cell_type": "code",
   "execution_count": null,
   "metadata": {},
   "outputs": [],
   "source": [
    "name_root_1NP_1Mb = \"mesc_46C_1Mb_481x1\"\n",
    "\n",
    "if(name_root_1NP_1Mb!= settings.name_root):\n",
    "    raise ValueError(\"Change name_root in settings.py and then restart the notebook\")\n",
    "\n",
    "path_2 =      data_path + name_root_1NP_1Mb + \"/\"\n",
    "file_name_2 = \"segregation_\" + name_root_1NP_1Mb +  \".pkl\"\n",
    "with open(path_2 + file_name_2, 'rb') as f:\n",
    "    segregation_table_1NP_1Mb = pickle.load(f)"
   ]
  },
  {
   "cell_type": "markdown",
   "metadata": {},
   "source": [
    "# $\\pi$ computation #"
   ]
  },
  {
   "cell_type": "code",
   "execution_count": null,
   "metadata": {},
   "outputs": [],
   "source": [
    "from src.slice_pairwise import single_chromosome"
   ]
  },
  {
   "cell_type": "code",
   "execution_count": null,
   "metadata": {},
   "outputs": [],
   "source": [
    "s = 213515\n",
    "rg = Generator(MT19937(s))\n",
    "\n",
    "chr12_1NP_1Mb_pi, chr12_1NP_1Mb_sign_pi = single_chromosome('chr12', segregation_table_1NP_1Mb['chr12']['segregation_table'],  95, verbose= False, save= False, ret= True, generator = rg)\n",
    "\n",
    "del rg, s"
   ]
  },
  {
   "cell_type": "code",
   "execution_count": null,
   "metadata": {},
   "outputs": [],
   "source": [
    "s = 9158146\n",
    "rg = Generator(MT19937(s))\n",
    "\n",
    "chr18_1NP_1Mb_pi, chr18_1NP_1Mb_sign_pi = single_chromosome('chr18', segregation_table_1NP_1Mb['chr18']['segregation_table'],  95, verbose= False, save= False, ret= True, generator = rg)\n",
    "\n",
    "del rg, s"
   ]
  },
  {
   "cell_type": "code",
   "execution_count": null,
   "metadata": {},
   "outputs": [],
   "source": [
    "from src.slice_pairwise_inter import inter_chromosome as inter_chromosome_beta_1\n",
    "from src.slice_pairwise_inter_beta_evaluation import inter_chromosome as inter_chromosome_beta_eval"
   ]
  },
  {
   "cell_type": "code",
   "execution_count": null,
   "metadata": {},
   "outputs": [],
   "source": [
    "s = 9564154\n",
    "rg = Generator(MT19937(s))\n",
    "\n",
    "chr12_18_1NP_1Mb_pi_beta_1, chr12_18_1NP_1Mb_sign_pi_beta_1 = inter_chromosome_beta_1(segregation_table_1NP_1Mb['chr12']['segregation_table'], segregation_table_1NP_1Mb['chr18']['segregation_table'] , 'chr12', 'chr18', 95, verbose= False, save= False, ret= True, generator = rg)\n",
    "del s, rg\n",
    "\n",
    "s = 61468952\n",
    "rg = Generator(MT19937(s))\n",
    "\n",
    "chr12_18_1NP_1Mb_pi_beta_eval, chr12_18_1NP_1Mb_sign_pi_beta_eval = inter_chromosome_beta_eval(segregation_table_1NP_1Mb['chr12']['segregation_table'], segregation_table_1NP_1Mb['chr18']['segregation_table'] , 'chr12', 'chr18', 95, verbose= False, save= False, ret= True, generator = rg)"
   ]
  },
  {
   "cell_type": "markdown",
   "metadata": {},
   "source": [
    "# Heatmaps #"
   ]
  },
  {
   "cell_type": "markdown",
   "metadata": {},
   "source": [
    "## Cosegregation ##"
   ]
  },
  {
   "cell_type": "code",
   "execution_count": null,
   "metadata": {},
   "outputs": [],
   "source": [
    "chr12_1NP_1Mb_coseg = compute_tube_cosegregation_matrix(segregation_table_1NP_1Mb['chr12']['segregation_table'])\n",
    "chr18_1NP_1Mb_coseg = compute_tube_cosegregation_matrix(segregation_table_1NP_1Mb['chr18']['segregation_table'])\n",
    "chr12_18_1NP_1Mb_coseg = compute_tube_cosegregation_matrix_inter(segregation_table_1NP_1Mb['chr12']['segregation_table'], segregation_table_1NP_1Mb['chr18']['segregation_table'])\n",
    "\n",
    "chr12_1NP_1Mb_coseg[chr12_1NP_1Mb_coseg == 0] = np.nan\n",
    "chr18_1NP_1Mb_coseg[chr18_1NP_1Mb_coseg == 0] = np.nan\n",
    "chr12_18_1NP_1Mb_coseg[chr12_18_1NP_1Mb_coseg == 0] = np.nan"
   ]
  },
  {
   "cell_type": "code",
   "execution_count": null,
   "metadata": {},
   "outputs": [],
   "source": [
    "fig1, _, _ = plot_heatmap_two_chromosomes(chr12_1NP_1Mb_coseg, chr18_1NP_1Mb_coseg, chr12_18_1NP_1Mb_coseg, colormap = \"RdYlBu_r\", title = \"chr 12 18 cosegregation\");\n",
    "\n",
    "fig1.savefig(save_folder + \"heatmaps/1_coseg_all_chromosomes/\" +  'chr12_18_1NP_1Mb_coseg.svg' , format = 'svg', dpi = 300)\n",
    "\n",
    "plt.close(fig1)\n",
    "\n",
    "del fig1"
   ]
  },
  {
   "cell_type": "code",
   "execution_count": null,
   "metadata": {},
   "outputs": [],
   "source": [
    "fig1, _, _, _ = plot_heatmap(chr12_1NP_1Mb_coseg, x_figsize=10, y_figsize=10,colormap=\"RdYlBu_r\", title = \"chr 12 1NP coseg \", resolution=1E6)\n",
    "fig2, _, _, _ = plot_heatmap(chr18_1NP_1Mb_coseg, x_figsize=10, y_figsize=10,colormap=\"RdYlBu_r\", title = \"chr 18 1NP coseg \", resolution=1E6)\n",
    "fig3, _, _, _ = plot_heatmap(chr12_18_1NP_1Mb_coseg, x_figsize=10, y_figsize=10,colormap=\"RdYlBu_r\", title = \"chr 12 18 1NP coseg \", resolution=1E6)\n",
    "\n",
    "fig1.savefig(save_folder + \"heatmaps/5_intra_coseg/\" +  'chr12_1NP_1Mb_coseg.svg' , format = 'svg', dpi = 300)\n",
    "fig2.savefig(save_folder + \"heatmaps/5_intra_coseg/\" +  'chr18_1NP_1Mb_coseg.svg' , format = 'svg', dpi = 300)\n",
    "fig3.savefig(save_folder + \"heatmaps/9_inter_coseg/\" +  'chr12_18_1NP_1Mb_coseg.svg' , format = 'svg', dpi = 300)\n",
    "\n",
    "plt.close(fig1)\n",
    "plt.close(fig2)\n",
    "plt.close(fig3)\n",
    "\n",
    "del fig1\n",
    "del fig2\n",
    "del fig3"
   ]
  },
  {
   "cell_type": "code",
   "execution_count": null,
   "metadata": {},
   "outputs": [],
   "source": [
    "temp = np.hstack((chr12_1NP_1Mb_coseg.flatten(), chr18_1NP_1Mb_coseg.flatten()))\n",
    "common_cmap_vmin_vmax = [np.nanpercentile(temp.flatten(), 3), np.nanpercentile(temp.flatten(), 97)]\n",
    "\n",
    "del temp\n",
    "\n",
    "fig1, _, _, _ = plot_heatmap(chr12_1NP_1Mb_coseg, x_figsize=10, y_figsize=10, vmin = common_cmap_vmin_vmax[0], vmax = common_cmap_vmin_vmax[1], colormap=\"RdYlBu_r\", title = \"chr 12 1NP coseg same cmap in intra\", resolution=1E6)\n",
    "fig2, _, _, _ = plot_heatmap(chr18_1NP_1Mb_coseg, x_figsize=10, y_figsize=10, vmin = common_cmap_vmin_vmax[0], vmax = common_cmap_vmin_vmax[1], colormap=\"RdYlBu_r\", title = \"chr 18 1NP coseg same cmap in intra\", resolution=1E6)\n",
    "\n",
    "fig1.savefig(save_folder + \"heatmaps/5_intra_coseg/\" +  'chr12_1NP_1Mb_coseg_same_cmap_in_intra.svg' , format = 'svg', dpi = 300)\n",
    "fig2.savefig(save_folder + \"heatmaps/5_intra_coseg/\" +  'chr18_1NP_1Mb_coseg_same_cmap_in_intra.svg' , format = 'svg', dpi = 300)\n",
    "\n",
    "plt.close(fig1)\n",
    "plt.close(fig2)\n",
    "\n",
    "del fig1, fig2, common_cmap_vmin_vmax"
   ]
  },
  {
   "cell_type": "markdown",
   "metadata": {},
   "source": [
    "## NPMI ##"
   ]
  },
  {
   "cell_type": "code",
   "execution_count": null,
   "metadata": {},
   "outputs": [],
   "source": [
    "with warnings.catch_warnings():\n",
    "\n",
    "    warnings.filterwarnings(\"ignore\", \"divide by zero encountered in log\", category=RuntimeWarning)   \n",
    "    warnings.filterwarnings(\"ignore\", \"invalid value encountered in true_divide\", category=RuntimeWarning)   \n",
    "\n",
    "    chr12_1NP_1Mb_npmi = compute_npmi(segregation_table_1NP_1Mb['chr12']['segregation_table'])\n",
    "    chr18_1NP_1Mb_npmi = compute_npmi(segregation_table_1NP_1Mb['chr18']['segregation_table'])\n",
    "    chr12_18_1NP_1Mb_npmi = compute_npmi_inter(segregation_table_1NP_1Mb['chr12']['segregation_table'], segregation_table_1NP_1Mb['chr18']['segregation_table'])\n",
    "\n",
    "\n",
    "    fig1, _, _ = plot_heatmap_two_chromosomes(chr12_1NP_1Mb_npmi, chr18_1NP_1Mb_npmi, chr12_18_1NP_1Mb_npmi, colormap = \"RdYlBu_r\", title = \"chr 12 18 NPMI\");\n",
    "\n",
    "\n",
    "# fig1.savefig(save_folder + \"heatmaps/2_NPMI_all_chromosomes/\" +  'chr12_18_1NP_1Mb_npmi.svg' , format = 'svg', dpi = 300)\n",
    "\n",
    "plt.close(fig1)\n",
    "\n",
    "del fig1\n"
   ]
  },
  {
   "cell_type": "code",
   "execution_count": null,
   "metadata": {},
   "outputs": [],
   "source": [
    "fig1, _, _, _ = plot_heatmap(chr12_1NP_1Mb_npmi, x_figsize=10, y_figsize=10,colormap=\"RdYlBu_r\", title = \"chr 12 1NP NPMI \", resolution=1E6)\n",
    "fig2, _, _, _ = plot_heatmap(chr18_1NP_1Mb_npmi, x_figsize=10, y_figsize=10,colormap=\"RdYlBu_r\", title = \"chr 18 1NP NPMI \", resolution=1E6)\n",
    "fig3, _, _, _ = plot_heatmap(chr12_18_1NP_1Mb_npmi, x_figsize=10, y_figsize=10,colormap=\"RdYlBu_r\", title = \"chr 12 18 1NP NPMI \", resolution=1E6)\n",
    "\n",
    "fig1.savefig(save_folder + \"heatmaps/6_intra_NPMI/\" +  'chr12_1NP_1Mb_NPMI.svg' , format = 'svg', dpi = 300)\n",
    "fig2.savefig(save_folder + \"heatmaps/6_intra_NPMI/\" +  'chr18_1NP_1Mb_NPMI.svg' , format = 'svg', dpi = 300)\n",
    "fig3.savefig(save_folder + \"heatmaps/10_inter_NPMI/\" +  'chr12_18_1NP_1Mb_NPMI.svg' , format = 'svg', dpi = 300)\n",
    "\n",
    "plt.close(fig1)\n",
    "plt.close(fig2)\n",
    "plt.close(fig3)\n",
    "\n",
    "del fig1\n",
    "del fig2\n",
    "del fig3"
   ]
  },
  {
   "cell_type": "code",
   "execution_count": null,
   "metadata": {},
   "outputs": [],
   "source": [
    "temp = np.hstack((chr12_1NP_1Mb_npmi.flatten(), chr18_1NP_1Mb_npmi.flatten()))\n",
    "common_cmap_vmin_vmax = [np.nanpercentile(temp.flatten(), 3), np.nanpercentile(temp.flatten(), 97)]\n",
    "\n",
    "del temp\n",
    "\n",
    "fig1, _, _, _ = plot_heatmap(chr12_1NP_1Mb_npmi, x_figsize=10, y_figsize=10, vmin = common_cmap_vmin_vmax[0], vmax = common_cmap_vmin_vmax[1], colormap=\"RdYlBu_r\", title = \"chr 12 1NP npmi same cmap in intra\", resolution=1E6)\n",
    "fig2, _, _, _ = plot_heatmap(chr18_1NP_1Mb_npmi, x_figsize=10, y_figsize=10, vmin = common_cmap_vmin_vmax[0], vmax = common_cmap_vmin_vmax[1], colormap=\"RdYlBu_r\", title = \"chr 18 1NP npmi same cmap in intra\", resolution=1E6)\n",
    "\n",
    "fig1.savefig(save_folder + \"heatmaps/6_intra_NPMI/\" +  'chr12_1NP_1Mb_npmi_same_cmap_in_intra.svg' , format = 'svg', dpi = 300)\n",
    "fig2.savefig(save_folder + \"heatmaps/6_intra_NPMI/\" +  'chr18_1NP_1Mb_npmi_same_cmap_in_intra.svg' , format = 'svg', dpi = 300)\n",
    "\n",
    "plt.close(fig1)\n",
    "plt.close(fig2)\n",
    "\n",
    "del fig1, fig2, common_cmap_vmin_vmax"
   ]
  },
  {
   "cell_type": "markdown",
   "metadata": {},
   "source": [
    "## pi ##"
   ]
  },
  {
   "cell_type": "code",
   "execution_count": null,
   "metadata": {},
   "outputs": [],
   "source": [
    "fig1, _, _ = plot_heatmap_two_chromosomes(chr12_1NP_1Mb_pi, chr18_1NP_1Mb_pi, chr12_18_1NP_1Mb_pi_beta_1, colormap = \"RdYlBu_r\", title = \"chr 12 18 pi beta 1 1NP\", resolution=1E6);\n",
    "fig2, _, _ = plot_heatmap_two_chromosomes(chr12_1NP_1Mb_sign_pi, chr18_1NP_1Mb_sign_pi, chr12_18_1NP_1Mb_sign_pi_beta_1, colormap = \"RdYlBu_r\", title = \"chr 12 18 sign pi beta 1 1NP\", resolution=1E6);\n",
    "\n",
    "fig1.savefig(save_folder + \"heatmaps/3_pi_all_chromosomes/\" +  'chr12_18_1NP_1Mb_pi.svg' , format = 'svg', dpi = 300)\n",
    "fig2.savefig(save_folder + \"heatmaps/4_sign_pi_all_chromosomes/\" +  'chr12_18_1NP_1Mb_sign_pi.svg' , format = 'svg', dpi = 300)\n",
    "\n",
    "plt.close(fig1)\n",
    "plt.close(fig2)\n",
    "\n",
    "del fig1\n",
    "del fig2"
   ]
  },
  {
   "cell_type": "code",
   "execution_count": null,
   "metadata": {},
   "outputs": [],
   "source": [
    "fig1, _, _, _ = plot_heatmap(chr12_1NP_1Mb_pi, x_figsize=10, y_figsize=10, title = \"chr12_1NP_1Mb_pi\",colormap=\"RdYlBu_r\", resolution = 1E6);\n",
    "fig2, _, _, _ = plot_heatmap(chr12_1NP_1Mb_sign_pi, x_figsize=10, y_figsize=10, title = \"chr12_1NP_1Mb_sign_pi\" , colormap=\"RdYlBu_r\", resolution = 1E6);\n",
    "\n",
    "fig1.savefig(save_folder + \"heatmaps/7_intra_pi/\" +  'chr12_1NP_1Mb_pi.svg' , format = 'svg', dpi = 300)\n",
    "fig2.savefig(save_folder + \"heatmaps/8_intra_sign_pi/\" +  'chr12_1NP_1Mb_sign_pi.svg' , format = 'svg', dpi = 300)\n",
    "\n",
    "plt.close(fig1)\n",
    "plt.close(fig2)\n",
    "\n",
    "del fig1, fig2"
   ]
  },
  {
   "cell_type": "code",
   "execution_count": null,
   "metadata": {},
   "outputs": [],
   "source": [
    "fig1, _, _, _ = plot_heatmap(chr18_1NP_1Mb_pi, x_figsize=10, y_figsize=10, title = \"chr18_1NP_1Mb_pi\",colormap=\"RdYlBu_r\", resolution = 1E6);\n",
    "fig2, _, _, _ = plot_heatmap(chr18_1NP_1Mb_sign_pi, x_figsize=10, y_figsize=10, title = \"chr18_1NP_1Mb_sign_pi\" , colormap=\"RdYlBu_r\", resolution = 1E6);\n",
    "\n",
    "fig1.savefig(save_folder + \"heatmaps/7_intra_pi/\" +  'chr18_1NP_1Mb_pi.svg' , format = 'svg', dpi = 300)\n",
    "fig2.savefig(save_folder + \"heatmaps/8_intra_sign_pi/\" +  'chr18_1NP_1Mb_sign_pi.svg' , format = 'svg', dpi = 300)\n",
    "\n",
    "plt.close(fig1)\n",
    "plt.close(fig2)\n",
    "\n",
    "del fig1, fig2\n"
   ]
  },
  {
   "cell_type": "code",
   "execution_count": null,
   "metadata": {},
   "outputs": [],
   "source": [
    "fig1, _, _, _ = plot_heatmap(chr12_18_1NP_1Mb_pi_beta_1, x_figsize=10, y_figsize=10,colormap=\"RdYlBu_r\", title = \"chr 12 18 1NP beta 1 pi \", resolution=1E6)\n",
    "fig2, _, _, _ = plot_heatmap(chr12_18_1NP_1Mb_sign_pi_beta_1,x_figsize=10, y_figsize=10, colormap=\"RdYlBu_r\", title = \"chr 12 18 1NP beta 1 sign pi\", resolution=1E6)\n",
    "\n",
    "fig1.savefig(save_folder + \"heatmaps/11_inter_pi/\" +  'chr12_18_1NP_1Mb_pi_beta_1.svg' , format = 'svg', dpi = 300)\n",
    "fig2.savefig(save_folder + \"heatmaps/12_inter_sign_pi/\" +  'chr12_18_1NP_1Mb_sign_pi_beta_1.svg' , format = 'svg', dpi = 300)\n",
    "\n",
    "plt.close(fig1)\n",
    "plt.close(fig2)\n",
    "\n",
    "del fig1\n",
    "del fig2"
   ]
  },
  {
   "cell_type": "code",
   "execution_count": null,
   "metadata": {},
   "outputs": [],
   "source": [
    "fig1, _, _, _ = plot_heatmap(chr12_18_1NP_1Mb_pi_beta_eval, x_figsize=10, y_figsize=10,colormap=\"RdYlBu_r\", title = \"chr 12 18 1NP beta eval pi \", resolution=1E6)\n",
    "fig2, _, _, _ = plot_heatmap(chr12_18_1NP_1Mb_sign_pi_beta_eval,x_figsize=10, y_figsize=10, colormap=\"RdYlBu_r\", title = \"chr 12 18 1NP beta eval sign pi\", resolution=1E6)\n",
    "\n",
    "fig1.savefig(save_folder + \"heatmaps/11_inter_pi/\" +  'chr12_18_1NP_1Mb_pi_beta_eval.svg' , format = 'svg', dpi = 300)\n",
    "fig2.savefig(save_folder + \"heatmaps/12_inter_sign_pi/\" +  'chr12_18_1NP_1Mb_sign_pi_beta_eval.svg' , format = 'svg', dpi = 300)\n",
    "\n",
    "plt.close(fig1)\n",
    "plt.close(fig2)\n",
    "\n",
    "del fig1\n",
    "del fig2"
   ]
  },
  {
   "cell_type": "markdown",
   "metadata": {},
   "source": [
    "# Histograms #"
   ]
  },
  {
   "cell_type": "code",
   "execution_count": null,
   "metadata": {},
   "outputs": [],
   "source": [
    "fig1, ax1 = plt.subplots(1, figsize = (10,10))\n",
    "fig2, ax2 = plt.subplots(1, figsize = (10,10))\n",
    "fig3, ax3 = plt.subplots(1, figsize = (10,10))\n",
    "fig4, ax4 = plt.subplots(1, figsize = (10,10))\n",
    "fig5, ax5 = plt.subplots(1, figsize = (10,10))\n",
    "fig6, ax6 = plt.subplots(1, figsize = (10,10))\n",
    "fig7, ax7 = plt.subplots(1, figsize = (10,10))\n",
    "fig8, ax8 = plt.subplots(1, figsize = (10,10))\n",
    "\n",
    "ax1.hist(chr12_1NP_1Mb_pi.flatten(), bins = np.linspace(0,np.nanmax(chr12_1NP_1Mb_pi), 50), density = True, edgecolor = 'white');\n",
    "ax1.set_title(\"chr12_1NP_1Mb_pi\\n\");\n",
    "\n",
    "ax2.hist(chr12_1NP_1Mb_sign_pi.flatten(), bins = np.linspace(0,np.nanmax(chr12_1NP_1Mb_sign_pi), 50), density = True, edgecolor = 'white');\n",
    "ax2.set_title(\"chr12_1NP_1Mb_sign_pi\\n\");\n",
    "\n",
    "ax3.hist(chr18_1NP_1Mb_pi.flatten(), bins = np.linspace(0,np.nanmax(chr18_1NP_1Mb_pi), 50), density = True, edgecolor = 'white');\n",
    "ax3.set_title(\"chr18_1NP_1Mb_pi\\n\");\n",
    "\n",
    "ax4.hist(chr18_1NP_1Mb_sign_pi.flatten(), bins = np.linspace(0,np.nanmax(chr18_1NP_1Mb_sign_pi), 50), density = True, edgecolor = 'white');\n",
    "ax4.set_title(\"chr18_1NP_1Mb_sign_pi\\n\");\n",
    "\n",
    "ax5.hist(chr12_18_1NP_1Mb_pi_beta_1.flatten(), bins = np.linspace(0,np.nanmax(chr12_18_1NP_1Mb_pi_beta_1), 50), edgecolor = \"white\", density = True);\n",
    "ax5.set_title(\"chr12_18_1NP_1Mb_pi_beta_1\\n\")\n",
    "\n",
    "ax6.hist(chr12_18_1NP_1Mb_sign_pi_beta_1.flatten(), bins = np.linspace(0,np.nanmax(chr12_18_1NP_1Mb_pi_beta_1), 50), edgecolor = \"white\", density = True);\n",
    "ax6.set_title(\"chr12_18_1NP_1Mb_sign_pi_beta_1\\n\")\n",
    "\n",
    "ax7.hist(chr12_18_1NP_1Mb_pi_beta_eval.flatten(), bins = np.linspace(0,np.nanmax(chr12_18_1NP_1Mb_pi_beta_1), 50), edgecolor = \"white\", density = True);\n",
    "ax7.set_title(\"chr12_18_1NP_1Mb_pi_beta_eval\\n\")\n",
    "\n",
    "ax8.hist(chr12_18_1NP_1Mb_sign_pi_beta_eval.flatten(), bins = np.linspace(0,np.nanmax(chr12_18_1NP_1Mb_pi_beta_1), 50), edgecolor = \"white\", density = True);\n",
    "ax8.set_title(\"chr12_18_1NP_1Mb_sign_pi_beta_eval\\n\")\n",
    "\n",
    "\n",
    "ax1.tick_params(axis='x', which='major', labelsize=30); ax1.tick_params(axis='y', which='major', labelsize=30)\n",
    "ax2.tick_params(axis='x', which='major', labelsize=30); ax2.tick_params(axis='y', which='major', labelsize=30)\n",
    "ax3.tick_params(axis='x', which='major', labelsize=30); ax3.tick_params(axis='y', which='major', labelsize=30)\n",
    "ax4.tick_params(axis='x', which='major', labelsize=30); ax4.tick_params(axis='y', which='major', labelsize=30)\n",
    "ax5.tick_params(axis='x', which='major', labelsize=30); ax5.tick_params(axis='y', which='major', labelsize=30)\n",
    "ax6.tick_params(axis='x', which='major', labelsize=30); ax6.tick_params(axis='y', which='major', labelsize=30)\n",
    "ax7.tick_params(axis='x', which='major', labelsize=30); ax7.tick_params(axis='y', which='major', labelsize=30)\n",
    "ax8.tick_params(axis='x', which='major', labelsize=30); ax8.tick_params(axis='y', which='major', labelsize=30)\n",
    "\n",
    "\n",
    "fig1.savefig(save_folder + 'histograms/chr12_1NP_1Mb_pi_hist.svg', format = 'svg')\n",
    "fig2.savefig(save_folder + 'histograms/chr12_1NP_1Mb_sign_pi_hist.svg', format = 'svg')\n",
    "fig3.savefig(save_folder + 'histograms/chr18_1NP_1Mb_pi_hist.svg', format = 'svg')\n",
    "fig4.savefig(save_folder + 'histograms/chr18_1NP_1Mb_sign_pi_hist.svg', format = 'svg')\n",
    "fig5.savefig(save_folder + 'histograms/chr12_18_1NP_1Mb_pi_beta_1_hist.svg', format = 'svg')\n",
    "fig6.savefig(save_folder + 'histograms/chr12_18_1NP_1Mb_sign_pi_beta_1_hist.svg', format = 'svg')\n",
    "fig7.savefig(save_folder + 'histograms/chr12_18_1NP_1Mb_pi_beta_eval_hist.svg', format = 'svg')\n",
    "fig8.savefig(save_folder + 'histograms/chr12_18_1NP_1Mb_sign_pi_beta_eval_hist.svg', format = 'svg')\n",
    "\n",
    "fig1.savefig(save_folder + 'histograms/chr12_1NP_1Mb_pi_hist.png', format = 'png')\n",
    "fig2.savefig(save_folder + 'histograms/chr12_1NP_1Mb_sign_pi_hist.png', format = 'png')\n",
    "fig3.savefig(save_folder + 'histograms/chr18_1NP_1Mb_pi_hist.png', format = 'png')\n",
    "fig4.savefig(save_folder + 'histograms/chr18_1NP_1Mb_sign_pi_hist.png', format = 'png')\n",
    "fig5.savefig(save_folder + 'histograms/chr12_18_1NP_1Mb_pi_hist.png', format = 'png')\n",
    "fig6.savefig(save_folder + 'histograms/chr12_18_1NP_1Mb_sign_pi_hist.png', format = 'png')\n",
    "fig7.savefig(save_folder + 'histograms/chr12_18_1NP_1Mb_pi_beta_eval_hist.png', format = 'png')\n",
    "fig8.savefig(save_folder + 'histograms/chr12_18_1NP_1Mb_sign_pi_beta_eval_hist.png', format = 'png')\n",
    "\n",
    "plt.close(fig1);    plt.close(fig2);    plt.close(fig3);    plt.close(fig4);    plt.close(fig5);    plt.close(fig6);    plt.close(fig7);    plt.close(fig8);    \n",
    "\n",
    "del fig1, ax1, fig2, ax2, fig3, ax3, fig4, ax4, fig5, ax5, fig6, ax6, fig7, ax7, fig8, ax8"
   ]
  },
  {
   "cell_type": "markdown",
   "metadata": {},
   "source": [
    "# coseg - $\\pi$ correlations #"
   ]
  },
  {
   "cell_type": "code",
   "execution_count": null,
   "metadata": {},
   "outputs": [],
   "source": [
    "fig1, ax1 = scatter_matrices(chr12_1NP_1Mb_coseg, chr12_1NP_1Mb_pi, x_label=\"GAM cosegregation\", y_label=\"$\\pi$\", title=\"chr12\");\n",
    "fig2, ax2 = scatter_matrices(chr18_1NP_1Mb_coseg, chr18_1NP_1Mb_pi, x_label=\"GAM cosegregation\", y_label=\"$\\pi$\", title=\"chr18\");\n",
    "fig3, ax3 = scatter_matrices(chr12_18_1NP_1Mb_coseg, chr12_18_1NP_1Mb_pi_beta_1, x_label=\"GAM cosegregation\", y_label=\"$\\pi$ $\\\\beta = 1$\", title=\"chr12_18_beta_1\");\n",
    "fig4, ax4 = scatter_matrices(chr12_18_1NP_1Mb_coseg, chr12_18_1NP_1Mb_pi_beta_eval, x_label=\"GAM cosegregation\", y_label=\"$\\pi$ $\\\\beta = <s>$\", title=\"chr12_18_beta_eval\");\n",
    "\n",
    "chr12_coseg_pi_corr = matrix_correlation(chr12_1NP_1Mb_coseg, chr12_1NP_1Mb_pi)\n",
    "chr18_coseg_pi_corr =matrix_correlation(chr18_1NP_1Mb_coseg, chr18_1NP_1Mb_pi)\n",
    "chr12_18_coseg_pi_beta_1_corr =matrix_correlation(chr12_18_1NP_1Mb_coseg, chr12_18_1NP_1Mb_pi_beta_1)\n",
    "chr12_18_coseg_pi_beta_eval_corr =matrix_correlation(chr12_18_1NP_1Mb_coseg, chr12_18_1NP_1Mb_pi_beta_eval)\n",
    "\n",
    "header = \"chr\\tPearson\\tSpearman\"\n",
    "chr12_corr = \"chr12\\t\" + str(chr12_coseg_pi_corr[0]) + \"\\t\" + str(chr12_coseg_pi_corr[1])\n",
    "chr18_corr = \"chr18\\t\" + str(chr18_coseg_pi_corr[0]) + \"\\t\" + str(chr18_coseg_pi_corr[1])\n",
    "inter_beta_1_corr = \"chr12_18_beta_1\\t\" + str(chr12_18_coseg_pi_beta_1_corr[0]) + \"\\t\" + str(chr12_18_coseg_pi_beta_1_corr[1])\n",
    "inter_beta_eval_corr = \"chr12_18_beta_eval\\t\" + str(chr12_18_coseg_pi_beta_eval_corr[0]) + \"\\t\" + str(chr12_18_coseg_pi_beta_eval_corr[1])\n",
    "\n",
    "with open(save_folder + \"tables/\" + 'coseg_pi_correlations.txt', 'w') as f:\n",
    "    f.write(header + \"\\n\" + chr12_corr + \"\\n\"  + chr18_corr + \"\\n\"  + inter_beta_1_corr + \"\\n\" + inter_beta_eval_corr)\n",
    "\n",
    "fig1.savefig(save_folder + \"corr/coseg_vs_pi/\" +  'chr12_1NP_1Mb_coseg_pi_corr.svg' , format = 'svg', dpi = 300)\n",
    "fig2.savefig(save_folder + \"corr/coseg_vs_pi/\" +  'chr18_1NP_1Mb_coseg_pi_corr.svg' , format = 'svg', dpi = 300)\n",
    "fig3.savefig(save_folder + \"corr/coseg_vs_pi/\" +  'chr12_18_1NP_1Mb_coseg_pi_beta_1_corr.svg' , format = 'svg', dpi = 300)\n",
    "fig4.savefig(save_folder + \"corr/coseg_vs_pi/\" +  'chr12_18_1NP_1Mb_coseg_pi_beta_eval_corr.svg' , format = 'svg', dpi = 300)\n",
    "\n",
    "plt.close(fig1)\n",
    "plt.close(fig2)\n",
    "plt.close(fig3)\n",
    "plt.close(fig4)\n",
    "\n",
    "del fig1\n",
    "del fig2\n",
    "del fig3\n",
    "del fig4\n",
    "\n",
    "del header, chr12_corr, chr18_corr, inter_beta_1_corr, inter_beta_eval_corr, chr12_coseg_pi_corr, chr18_coseg_pi_corr, chr12_18_coseg_pi_beta_1_corr, chr12_18_coseg_pi_beta_eval_corr"
   ]
  },
  {
   "cell_type": "code",
   "execution_count": null,
   "metadata": {},
   "outputs": [],
   "source": [
    "fig1, ax1 = scatter_matrices(chr12_1NP_1Mb_coseg, chr12_1NP_1Mb_sign_pi, x_label=\"GAM cosegregation\", y_label=\"sign $\\pi$\", title=\"chr12\");\n",
    "fig2, ax2 = scatter_matrices(chr18_1NP_1Mb_coseg, chr18_1NP_1Mb_sign_pi, x_label=\"GAM cosegregation\", y_label=\"sign $\\pi$\", title=\"chr18\");\n",
    "fig3, ax3 = scatter_matrices(chr12_18_1NP_1Mb_coseg, chr12_18_1NP_1Mb_sign_pi_beta_1, x_label=\"GAM cosegregation\", y_label=\"sign $\\pi$ $\\\\beta = 1$\", title=\"chr12\");\n",
    "fig4, ax4 = scatter_matrices(chr12_18_1NP_1Mb_coseg, chr12_18_1NP_1Mb_sign_pi_beta_eval, x_label=\"GAM cosegregation\", y_label=\"sign $\\pi$ $\\\\beta = <s>$\", title=\"chr12\");\n",
    "\n",
    "chr12_coseg_pi_corr = matrix_correlation(chr12_1NP_1Mb_coseg, chr12_1NP_1Mb_sign_pi)\n",
    "chr18_coseg_pi_corr = matrix_correlation(chr18_1NP_1Mb_coseg, chr18_1NP_1Mb_sign_pi)\n",
    "chr12_18_coseg_pi_beta_1_corr = matrix_correlation(chr12_18_1NP_1Mb_coseg, chr12_18_1NP_1Mb_sign_pi_beta_1)\n",
    "chr12_18_coseg_pi_beta_eval_corr = matrix_correlation(chr12_18_1NP_1Mb_coseg, chr12_18_1NP_1Mb_sign_pi_beta_eval)\n",
    "\n",
    "header = \"chr\\tPearson\\tSpearman\"\n",
    "chr12_corr = \"chr12\\t\" + str(chr12_coseg_pi_corr[0]) + \"\\t\" + str(chr12_coseg_pi_corr[1])\n",
    "chr18_corr = \"chr18\\t\" + str(chr18_coseg_pi_corr[0]) + \"\\t\" + str(chr18_coseg_pi_corr[1])\n",
    "inter_beta_1_corr = \"chr12_18_beta_1\\t\" + str(chr12_18_coseg_pi_beta_1_corr[0]) + \"\\t\" + str(chr12_18_coseg_pi_beta_1_corr[1])\n",
    "inter_beta_eval_corr = \"chr12_18_beta_eval\\t\" + str(chr12_18_coseg_pi_beta_eval_corr[0]) + \"\\t\" + str(chr12_18_coseg_pi_beta_eval_corr[1])\n",
    "\n",
    "with open(save_folder + \"tables/\" + 'coseg_sign_pi_correlations.txt', 'w') as f:\n",
    "    f.write(header + \"\\n\" + chr12_corr + \"\\n\"  + chr18_corr + \"\\n\"  + inter_beta_1_corr + \"\\n\" + inter_beta_eval_corr)\n",
    "\n",
    "fig1.savefig(save_folder + \"corr/coseg_vs_sign_pi/\" +  'chr12_1NP_1Mb_coseg_sign_pi_corr.svg' , format = 'svg', dpi = 300)\n",
    "fig2.savefig(save_folder + \"corr/coseg_vs_sign_pi/\" +  'chr18_1NP_1Mb_coseg_sign_pi_corr.svg' , format = 'svg', dpi = 300)\n",
    "fig3.savefig(save_folder + \"corr/coseg_vs_sign_pi/\" +  'chr12_18_1NP_1Mb_coseg_sign_pi_beta_1_corr.svg' , format = 'svg', dpi = 300)\n",
    "fig4.savefig(save_folder + \"corr/coseg_vs_sign_pi/\" +  'chr12_18_1NP_1Mb_coseg_sign_pi_beta_eval_corr.svg' , format = 'svg', dpi = 300)\n",
    "\n",
    "plt.close(fig1)\n",
    "plt.close(fig2)\n",
    "plt.close(fig3)\n",
    "plt.close(fig4)\n",
    "\n",
    "del fig1\n",
    "del fig2\n",
    "del fig3\n",
    "del fig4\n",
    "\n",
    "del header, chr12_corr, chr18_corr, inter_beta_1_corr, inter_beta_eval_corr, chr12_coseg_pi_corr, chr18_coseg_pi_corr, chr12_18_coseg_pi_beta_1_corr, chr12_18_coseg_pi_beta_eval_corr\n"
   ]
  },
  {
   "cell_type": "markdown",
   "metadata": {},
   "source": [
    "# Stats #"
   ]
  },
  {
   "cell_type": "code",
   "execution_count": null,
   "metadata": {},
   "outputs": [],
   "source": [
    "chr12_1NP_stats = compute_pi_nan(chr12_1NP_1Mb_pi, chr12_1NP_1Mb_sign_pi, segregation_table_1NP_1Mb['chr12']['segregation_table'])\n",
    "chr18_1NP_stats = compute_pi_nan(chr18_1NP_1Mb_pi, chr18_1NP_1Mb_sign_pi, segregation_table_1NP_1Mb['chr18']['segregation_table']);\n",
    "inter_12_18_1NP_beta_1_stats = compute_pi_nan_inter(chr12_18_1NP_1Mb_pi_beta_1, chr12_18_1NP_1Mb_sign_pi_beta_1, segregation_table_1NP_1Mb['chr12']['segregation_table'], segregation_table_1NP_1Mb['chr18']['segregation_table']);\n",
    "inter_12_18_1NP_beta_eval_stats = compute_pi_nan_inter(chr12_18_1NP_1Mb_pi_beta_eval, chr12_18_1NP_1Mb_sign_pi_beta_eval, segregation_table_1NP_1Mb['chr12']['segregation_table'], segregation_table_1NP_1Mb['chr18']['segregation_table']);\n",
    "\n",
    "header = \"chr\\tmean_pi\\tstd_pi\\tmean_sign_pi\\tstd_sign_pi\\tGAM_nan\\tpi<0\\tpercent_sign_pi\\tpi>1\"\n",
    "chr12_info = \"chr12\\t\" + str(np.nanmean(chr12_1NP_1Mb_pi)) + \"\\t\" + str(np.nanstd(chr12_1NP_1Mb_pi)) + \"\\t\" + str(np.nanmean(chr12_1NP_1Mb_sign_pi)) + \"\\t\" + str(np.nanstd(chr12_1NP_1Mb_sign_pi)) + \"\\t\" + str(chr12_1NP_stats[0]) + \"\\t\" + str(chr12_1NP_stats[1]) + \"\\t\" + str(chr12_1NP_stats[2]) + \"\\t\" + str(chr12_1NP_stats[3])\n",
    "chr18_info = \"chr18\\t\" + str(np.nanmean(chr18_1NP_1Mb_pi)) + \"\\t\" + str(np.nanstd(chr18_1NP_1Mb_pi)) + \"\\t\" + str(np.nanmean(chr18_1NP_1Mb_sign_pi)) + \"\\t\" + str(np.nanstd(chr18_1NP_1Mb_sign_pi)) + \"\\t\" + str(chr18_1NP_stats[0]) + \"\\t\" + str(chr18_1NP_stats[1]) + \"\\t\" + str(chr18_1NP_stats[2]) + \"\\t\" + str(chr18_1NP_stats[3])\n",
    "inter_beta_1_info = \"chr12_18\\t\" + str(np.nanmean(chr12_18_1NP_1Mb_pi_beta_1)) + \"\\t\" + str(np.nanstd(chr12_18_1NP_1Mb_pi_beta_1)) + \"\\t\" + str(np.nanmean(chr12_18_1NP_1Mb_sign_pi_beta_1)) + \"\\t\" + str(np.nanstd(chr12_18_1NP_1Mb_sign_pi_beta_1)) + \"\\t\" + str(inter_12_18_1NP_beta_1_stats[0]) + \"\\t\" + str(inter_12_18_1NP_beta_1_stats[1]) + \"\\t\" + str(inter_12_18_1NP_beta_1_stats[2]) + \"\\t\" + str(inter_12_18_1NP_beta_1_stats[3])\n",
    "inter_beta_eval_info = \"chr12_18\\t\" + str(np.nanmean(chr12_18_1NP_1Mb_pi_beta_eval)) + \"\\t\" + str(np.nanstd(chr12_18_1NP_1Mb_pi_beta_eval)) + \"\\t\" + str(np.nanmean(chr12_18_1NP_1Mb_sign_pi_beta_eval)) + \"\\t\" + str(np.nanstd(chr12_18_1NP_1Mb_sign_pi_beta_eval)) + \"\\t\" + str(inter_12_18_1NP_beta_eval_stats[0]) + \"\\t\" + str(inter_12_18_1NP_beta_eval_stats[1]) + \"\\t\" + str(inter_12_18_1NP_beta_eval_stats[2]) + \"\\t\" + str(inter_12_18_1NP_beta_eval_stats[3])\n",
    "\n",
    "with open(save_folder + \"tables/\" + 'beagrie_mesc_1NP_stats.txt', 'w') as f:\n",
    "    f.write(header + \"\\n\" + chr12_info + \"\\n\"  + chr18_info + \"\\n\"  + inter_beta_1_info + \"\\n\" + inter_beta_eval_info)"
   ]
  }
 ],
 "metadata": {
  "interpreter": {
   "hash": "35f0287b245a2b6752771d274bb3d656c1194568339c7d520dafb5ec18825d5e"
  },
  "kernelspec": {
   "display_name": "Python 3 (ipykernel)",
   "language": "python",
   "name": "python3"
  },
  "language_info": {
   "codemirror_mode": {
    "name": "ipython",
    "version": 3
   },
   "file_extension": ".py",
   "mimetype": "text/x-python",
   "name": "python",
   "nbconvert_exporter": "python",
   "pygments_lexer": "ipython3",
   "version": "3.9.7"
  }
 },
 "nbformat": 4,
 "nbformat_minor": 4
}
